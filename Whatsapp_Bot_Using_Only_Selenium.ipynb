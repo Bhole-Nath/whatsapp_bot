{
  "metadata": {
    "kernelspec": {
      "name": "python",
      "display_name": "Python (Pyodide)",
      "language": "python"
    },
    "language_info": {
      "codemirror_mode": {
        "name": "ipython",
        "version": 3
      },
      "file_extension": ".py",
      "mimetype": "text/x-python",
      "name": "python",
      "nbconvert_exporter": "python",
      "pygments_lexer": "ipython3",
      "version": "3.11.7"
    }
  },
  "nbformat_minor": 5,
  "nbformat": 4,
  "cells": [
    {
      "id": "37d74589",
      "cell_type": "code",
      "source": "\"\"\"\nWhatsApp Messenger Bot using Selenium\n---------------------------------------------------\nIMPORTANT:\n- This tool is provided for educational and personal use only.\n- Ensure you have recipient consent, and be aware that bulk messaging may violate WhatsApp’s terms of service.\n- Use responsibly.\n\"\"\"\n\nimport sys\nimport time\nimport pandas as pd\nfrom selenium import webdriver\nfrom selenium.webdriver.common.by import By\nfrom selenium.webdriver.support.ui import WebDriverWait\nfrom selenium.webdriver.support import expected_conditions as EC\nfrom selenium.webdriver.common.keys import Keys",
      "metadata": {
        "trusted": true
      },
      "outputs": [],
      "execution_count": null
    },
    {
      "id": "dbe02d7a",
      "cell_type": "code",
      "source": "# -------------------------------\n# CONFIGURATION PARAMETERS\n# -------------------------------\nEXCEL_FILE = \"contacts.xlsx\"   # Excel file with columns 'Business Name' and 'Phone Number'\nBATCH_SIZE = 10                # Number of messages per batch\nBATCH_DELAY = 60               # Delay (in seconds) between batches\nRETRY_LIMIT = 1                # Number of retry attempts per message\n\n# Global log list to capture delivery details\nLOG_LIST = []",
      "metadata": {
        "trusted": true
      },
      "outputs": [],
      "execution_count": null
    },
    {
      "id": "cf7fad66",
      "cell_type": "code",
      "source": "# -------------------------------\n# Data Handling Module\n# -------------------------------\ndef load_contacts(excel_file):\n    try:\n        df = pd.read_excel(excel_file)\n    except Exception as e:\n        print(f\"Error reading Excel file: {e}\")\n        sys.exit(1)\n    if 'Business Name' not in df.columns or 'Phone Number' not in df.columns:\n        print(\"Excel file must contain 'Business Name' and 'Phone Number' columns.\")\n        sys.exit(1)\n    # Read and clean phone numbers and business names\n    contacts = df['Phone Number'].astype(str).str.strip().tolist()\n    business_names = df['Business Name'].tolist()\n    # Ensure phone numbers have a '+' at the beginning for international format\n    contacts = [phone if phone.startswith('+') else '+' + phone for phone in contacts]\n    # Create personalized messages for each contact\n    messages = [f\"Hello {name}, thank you for your support! - Regards Apex Strategies Inc.\" for name in business_names]\n    return contacts, messages\n\ndef display_summary(contacts):\n    total = len(contacts)\n    print(f\"\\nPre-Send Summary: {total} contacts loaded.\")\n    confirm = input(\"Do you want to proceed with sending messages? (yes/no): \")\n    if confirm.lower() != 'yes':\n        print(\"Exiting.\")\n        sys.exit(0)",
      "metadata": {
        "trusted": true
      },
      "outputs": [],
      "execution_count": null
    },
    {
      "id": "d87d31d4",
      "cell_type": "code",
      "source": "# -------------------------------\n# Authentication Module (Selenium)\n# -------------------------------\ndef authenticate_whatsapp():\n    print(\"\\nLaunching WhatsApp Web for authentication...\")\n    driver = webdriver.Chrome()  # Ensure chromedriver is in PATH or specify executable_path\n    driver.get(\"https://web.whatsapp.com\")\n    print(\"Please scan the QR code with your phone to authenticate WhatsApp Web.\")\n    try:\n        # Wait until the chat sidebar appears (up to 60 seconds)\n        WebDriverWait(driver, 60).until(EC.presence_of_element_located((By.ID, \"pane-side\")))\n    except Exception as e:\n        print(\"Timed out waiting for WhatsApp authentication. Exiting.\")\n        driver.quit()\n        sys.exit(1)\n    print(\"Authentication successful!\")\n    # Wait for session to stabilize\n    time.sleep(5)\n    return driver\n",
      "metadata": {
        "trusted": true
      },
      "outputs": [],
      "execution_count": null
    },
    {
      "id": "9082ceb6",
      "cell_type": "code",
      "source": "# -------------------------------\n# Messaging Module (Using Selenium)\n# -------------------------------\ndef send_messages(contacts, messages, driver):\n    total = len(contacts)\n    for i in range(total):\n        phone = contacts[i]\n        msg = messages[i]\n        success = False\n        attempts = 0\n        chat_url = f\"https://web.whatsapp.com/send?phone={phone}&text&app_absent=0\"\n        while not success and attempts <= RETRY_LIMIT:\n            try:\n                print(f\"\\nNavigating to chat for {phone} (Attempt {attempts + 1})...\")\n                driver.get(chat_url)\n                # Wait for the message input box to appear; XPath may change with WhatsApp updates.\n                input_box = WebDriverWait(driver, 30).until(\n                    EC.presence_of_element_located((By.XPATH, \"//div[@contenteditable='true'][@data-tab='10']\"))\n                )\n                time.sleep(3)  # Extra wait to ensure the page loads completely\n                input_box.click()\n                input_box.clear()\n                input_box.send_keys(msg)\n                input_box.send_keys(Keys.ENTER)\n                print(f\"Message successfully sent to {phone}\")\n                LOG_LIST.append({\n                    \"Phone Number\": phone,\n                    \"Status\": \"Sent\",\n                    \"Message\": msg,\n                    \"Attempts\": attempts + 1\n                })\n                success = True\n                time.sleep(3)  # Brief pause before processing the next contact\n            except Exception as e:\n                attempts += 1\n                print(f\"Error sending message to {phone}: {e}\")\n                if attempts > RETRY_LIMIT:\n                    LOG_LIST.append({\n                        \"Phone Number\": phone,\n                        \"Status\": \"Failed\",\n                        \"Message\": msg,\n                        \"Error\": str(e),\n                        \"Attempts\": attempts\n                    })\n                else:\n                    print(\"Retrying in 5 seconds...\")\n                    time.sleep(5)\n        # Batch processing: pause after processing each batch\n        if (i + 1) % BATCH_SIZE == 0:\n            print(f\"\\nBatch of {BATCH_SIZE} messages processed. Waiting for {BATCH_DELAY} seconds before next batch...\")\n            time.sleep(BATCH_DELAY)\n",
      "metadata": {
        "trusted": true
      },
      "outputs": [],
      "execution_count": null
    },
    {
      "id": "4d2b2d1b",
      "cell_type": "code",
      "source": "# -------------------------------\n# Logging & Reporting Module\n# -------------------------------\ndef save_log(log_list, filename=\"delivery_log.xlsx\"):\n    try:\n        df_log = pd.DataFrame(log_list)\n        df_log.to_excel(filename, index=False)\n        print(f\"\\nDelivery log saved to '{filename}'.\")\n    except Exception as e:\n        print(f\"Error saving log: {e}\")\n",
      "metadata": {
        "trusted": true
      },
      "outputs": [],
      "execution_count": null
    },
    {
      "id": "2a652878",
      "cell_type": "code",
      "source": "# -------------------------------\n# Main Workflow\n# -------------------------------\ndef main():\n    print(\"Starting WhatsApp Messenger Bot...\\n\")\n    # 1. Load contacts and personalized messages from Excel\n    contacts, messages = load_contacts(EXCEL_FILE)\n    display_summary(contacts)\n    \n    # 2. Authenticate on WhatsApp Web using Selenium\n    driver = authenticate_whatsapp()\n    \n    # 3. Send messages using Selenium (persistent session)\n    send_messages(contacts, messages, driver)\n    \n    # 4. Save the delivery log to an Excel file\n    save_log(LOG_LIST)\n    \n    print(\"\\nAll messages have been processed.\")\n    driver.quit()\n",
      "metadata": {
        "trusted": true
      },
      "outputs": [],
      "execution_count": null
    },
    {
      "id": "daf95d65",
      "cell_type": "code",
      "source": "# -------------------------------\n# Entry Point\n# -------------------------------\nif __name__ == \"__main__\":\n    main()\n\n",
      "metadata": {
        "trusted": true
      },
      "outputs": [],
      "execution_count": null
    }
  ]
}